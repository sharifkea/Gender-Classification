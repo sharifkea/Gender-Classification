{
 "cells": [
  {
   "cell_type": "code",
   "execution_count": 270,
   "metadata": {
    "id": "nRVgWzA8b3I6"
   },
   "outputs": [],
   "source": [
    "import matplotlib.pyplot as plt\n",
    "from mlxtend.plotting import plot_decision_regions\n",
    "import numpy as ny\n",
    "import pandas as ps\n",
    "from sklearn.svm import SVC\n",
    "from sklearn.model_selection import train_test_split\n",
    "from sklearn.metrics import accuracy_score, precision_score, recall_score, f1_score, cohen_kappa_score\n",
    "import matplotlib.pyplot as plt\n",
    "from sklearn.datasets import make_classification\n",
    "from sklearn.metrics import plot_confusion_matrix\n",
    "from sklearn.tree import DecisionTreeClassifier \n",
    "from sklearn.metrics import confusion_matrix\n",
    "from sklearn import preprocessing\n",
    "from sklearn.linear_model import LogisticRegression \n",
    "from sklearn.ensemble import RandomForestClassifier \n",
    "from sklearn.neighbors import KNeighborsClassifier \n",
    "from sklearn.ensemble import GradientBoostingClassifier \n",
    "from sklearn import tree\n",
    "from sklearn import preprocessing\n",
    "from sklearn.neural_network import MLPClassifier\n",
    "\n",
    "from sklearn.model_selection import cross_val_score\n",
    "from sklearn.model_selection import KFold"
   ]
  },
  {
   "cell_type": "code",
   "execution_count": 271,
   "metadata": {
    "id": "u_tkEEbe49FC"
   },
   "outputs": [],
   "source": [
    "def performance_evaluation(tp, tn, fp, fn, beta=1.0):\n",
    "\n",
    "   accuracy = (tp + tn) / (tp + fp + fn + tn)\n",
    "   sensitivity = tp / (tp + fn)\n",
    "   specificity = tn / (fp + tn)\n",
    "   precision = tp / (tp + fp)\n",
    "   recall = sensitivity\n",
    "   f_score = ( (beta**2 + 1) * precision * recall) / (beta**2 * precision + recall)\n",
    "   auc = (sensitivity + specificity) / 2\n",
    "   youden = sensitivity - (1 - specificity)\n",
    "   p_plus = sensitivity / (1 - specificity)\n",
    "   p_minus = (1 - sensitivity) / specificity\n",
    "   dp = (ny.sqrt(3) / ny.pi) * (ny.log(sensitivity/(1 - sensitivity) + ny.log(specificity/(1 - specificity))))\n",
    "\n",
    "   result = {}\n",
    "   result[\"tp\"] = tp\n",
    "   result[\"tn\"] = tn\n",
    "   result[\"fp\"] = fp\n",
    "   result[\"fn\"] = fn\n",
    "   result[\"accuracy\"] = accuracy\n",
    "   result[\"sensitivity\"] = sensitivity\n",
    "   result[\"specificity\"] = specificity\n",
    "   result[\"precision\"] = precision\n",
    "   result[\"recall\"] = recall\n",
    "   result[\"f-score\"] = f_score\n",
    "   result[\"AUC\"] = auc\n",
    "   result[\"Youden\"] = youden\n",
    "   result[\"p+\"] = p_plus\n",
    "   result[\"p-\"] = p_minus\n",
    "   result[\"DP\"] = dp\n",
    "\n",
    "   return result"
   ]
  },
  {
   "cell_type": "code",
   "execution_count": 272,
   "metadata": {
    "id": "aFZskJIs_HGk"
   },
   "outputs": [],
   "source": [
    "set = ps.read_csv(\"voice.csv\")\n"
   ]
  },
  {
   "cell_type": "code",
   "execution_count": 273,
   "metadata": {
    "cellView": "code",
    "colab": {
     "base_uri": "https://localhost:8080/",
     "height": 206
    },
    "id": "Eg7Q9UCz_PJQ",
    "outputId": "9d3b97a2-21ec-4bd8-87be-5f7d11a245dc"
   },
   "outputs": [
    {
     "data": {
      "text/html": [
       "<div>\n",
       "<style scoped>\n",
       "    .dataframe tbody tr th:only-of-type {\n",
       "        vertical-align: middle;\n",
       "    }\n",
       "\n",
       "    .dataframe tbody tr th {\n",
       "        vertical-align: top;\n",
       "    }\n",
       "\n",
       "    .dataframe thead th {\n",
       "        text-align: right;\n",
       "    }\n",
       "</style>\n",
       "<table border=\"1\" class=\"dataframe\">\n",
       "  <thead>\n",
       "    <tr style=\"text-align: right;\">\n",
       "      <th></th>\n",
       "      <th>meanfreq</th>\n",
       "      <th>sd</th>\n",
       "      <th>median</th>\n",
       "      <th>Q25</th>\n",
       "      <th>Q75</th>\n",
       "      <th>IQR</th>\n",
       "      <th>skew</th>\n",
       "      <th>kurt</th>\n",
       "      <th>sp.ent</th>\n",
       "      <th>sfm</th>\n",
       "      <th>...</th>\n",
       "      <th>centroid</th>\n",
       "      <th>meanfun</th>\n",
       "      <th>minfun</th>\n",
       "      <th>maxfun</th>\n",
       "      <th>meandom</th>\n",
       "      <th>mindom</th>\n",
       "      <th>maxdom</th>\n",
       "      <th>dfrange</th>\n",
       "      <th>modindx</th>\n",
       "      <th>label</th>\n",
       "    </tr>\n",
       "  </thead>\n",
       "  <tbody>\n",
       "    <tr>\n",
       "      <th>0</th>\n",
       "      <td>0.059781</td>\n",
       "      <td>0.064241</td>\n",
       "      <td>0.032027</td>\n",
       "      <td>0.015071</td>\n",
       "      <td>0.090193</td>\n",
       "      <td>0.075122</td>\n",
       "      <td>12.863462</td>\n",
       "      <td>274.402906</td>\n",
       "      <td>0.893369</td>\n",
       "      <td>0.491918</td>\n",
       "      <td>...</td>\n",
       "      <td>0.059781</td>\n",
       "      <td>0.084279</td>\n",
       "      <td>0.015702</td>\n",
       "      <td>0.275862</td>\n",
       "      <td>0.007812</td>\n",
       "      <td>0.007812</td>\n",
       "      <td>0.007812</td>\n",
       "      <td>0.000000</td>\n",
       "      <td>0.000000</td>\n",
       "      <td>male</td>\n",
       "    </tr>\n",
       "    <tr>\n",
       "      <th>1</th>\n",
       "      <td>0.066009</td>\n",
       "      <td>0.067310</td>\n",
       "      <td>0.040229</td>\n",
       "      <td>0.019414</td>\n",
       "      <td>0.092666</td>\n",
       "      <td>0.073252</td>\n",
       "      <td>22.423285</td>\n",
       "      <td>634.613855</td>\n",
       "      <td>0.892193</td>\n",
       "      <td>0.513724</td>\n",
       "      <td>...</td>\n",
       "      <td>0.066009</td>\n",
       "      <td>0.107937</td>\n",
       "      <td>0.015826</td>\n",
       "      <td>0.250000</td>\n",
       "      <td>0.009014</td>\n",
       "      <td>0.007812</td>\n",
       "      <td>0.054688</td>\n",
       "      <td>0.046875</td>\n",
       "      <td>0.052632</td>\n",
       "      <td>male</td>\n",
       "    </tr>\n",
       "    <tr>\n",
       "      <th>2</th>\n",
       "      <td>0.077316</td>\n",
       "      <td>0.083829</td>\n",
       "      <td>0.036718</td>\n",
       "      <td>0.008701</td>\n",
       "      <td>0.131908</td>\n",
       "      <td>0.123207</td>\n",
       "      <td>30.757155</td>\n",
       "      <td>1024.927705</td>\n",
       "      <td>0.846389</td>\n",
       "      <td>0.478905</td>\n",
       "      <td>...</td>\n",
       "      <td>0.077316</td>\n",
       "      <td>0.098706</td>\n",
       "      <td>0.015656</td>\n",
       "      <td>0.271186</td>\n",
       "      <td>0.007990</td>\n",
       "      <td>0.007812</td>\n",
       "      <td>0.015625</td>\n",
       "      <td>0.007812</td>\n",
       "      <td>0.046512</td>\n",
       "      <td>male</td>\n",
       "    </tr>\n",
       "    <tr>\n",
       "      <th>3</th>\n",
       "      <td>0.151228</td>\n",
       "      <td>0.072111</td>\n",
       "      <td>0.158011</td>\n",
       "      <td>0.096582</td>\n",
       "      <td>0.207955</td>\n",
       "      <td>0.111374</td>\n",
       "      <td>1.232831</td>\n",
       "      <td>4.177296</td>\n",
       "      <td>0.963322</td>\n",
       "      <td>0.727232</td>\n",
       "      <td>...</td>\n",
       "      <td>0.151228</td>\n",
       "      <td>0.088965</td>\n",
       "      <td>0.017798</td>\n",
       "      <td>0.250000</td>\n",
       "      <td>0.201497</td>\n",
       "      <td>0.007812</td>\n",
       "      <td>0.562500</td>\n",
       "      <td>0.554688</td>\n",
       "      <td>0.247119</td>\n",
       "      <td>male</td>\n",
       "    </tr>\n",
       "    <tr>\n",
       "      <th>4</th>\n",
       "      <td>0.135120</td>\n",
       "      <td>0.079146</td>\n",
       "      <td>0.124656</td>\n",
       "      <td>0.078720</td>\n",
       "      <td>0.206045</td>\n",
       "      <td>0.127325</td>\n",
       "      <td>1.101174</td>\n",
       "      <td>4.333713</td>\n",
       "      <td>0.971955</td>\n",
       "      <td>0.783568</td>\n",
       "      <td>...</td>\n",
       "      <td>0.135120</td>\n",
       "      <td>0.106398</td>\n",
       "      <td>0.016931</td>\n",
       "      <td>0.266667</td>\n",
       "      <td>0.712812</td>\n",
       "      <td>0.007812</td>\n",
       "      <td>5.484375</td>\n",
       "      <td>5.476562</td>\n",
       "      <td>0.208274</td>\n",
       "      <td>male</td>\n",
       "    </tr>\n",
       "  </tbody>\n",
       "</table>\n",
       "<p>5 rows × 21 columns</p>\n",
       "</div>"
      ],
      "text/plain": [
       "   meanfreq        sd    median       Q25       Q75       IQR       skew  \\\n",
       "0  0.059781  0.064241  0.032027  0.015071  0.090193  0.075122  12.863462   \n",
       "1  0.066009  0.067310  0.040229  0.019414  0.092666  0.073252  22.423285   \n",
       "2  0.077316  0.083829  0.036718  0.008701  0.131908  0.123207  30.757155   \n",
       "3  0.151228  0.072111  0.158011  0.096582  0.207955  0.111374   1.232831   \n",
       "4  0.135120  0.079146  0.124656  0.078720  0.206045  0.127325   1.101174   \n",
       "\n",
       "          kurt    sp.ent       sfm  ...  centroid   meanfun    minfun  \\\n",
       "0   274.402906  0.893369  0.491918  ...  0.059781  0.084279  0.015702   \n",
       "1   634.613855  0.892193  0.513724  ...  0.066009  0.107937  0.015826   \n",
       "2  1024.927705  0.846389  0.478905  ...  0.077316  0.098706  0.015656   \n",
       "3     4.177296  0.963322  0.727232  ...  0.151228  0.088965  0.017798   \n",
       "4     4.333713  0.971955  0.783568  ...  0.135120  0.106398  0.016931   \n",
       "\n",
       "     maxfun   meandom    mindom    maxdom   dfrange   modindx  label  \n",
       "0  0.275862  0.007812  0.007812  0.007812  0.000000  0.000000   male  \n",
       "1  0.250000  0.009014  0.007812  0.054688  0.046875  0.052632   male  \n",
       "2  0.271186  0.007990  0.007812  0.015625  0.007812  0.046512   male  \n",
       "3  0.250000  0.201497  0.007812  0.562500  0.554688  0.247119   male  \n",
       "4  0.266667  0.712812  0.007812  5.484375  5.476562  0.208274   male  \n",
       "\n",
       "[5 rows x 21 columns]"
      ]
     },
     "execution_count": 273,
     "metadata": {},
     "output_type": "execute_result"
    }
   ],
   "source": [
    "set.head()"
   ]
  },
  {
   "cell_type": "code",
   "execution_count": 274,
   "metadata": {
    "colab": {
     "base_uri": "https://localhost:8080/"
    },
    "id": "7Ib6d0k57Whp",
    "outputId": "96531367-aadb-4f89-8370-381809c26e9d"
   },
   "outputs": [
    {
     "data": {
      "text/plain": [
       "meanfreq     0.180907\n",
       "sd           0.057126\n",
       "median       0.185621\n",
       "Q25          0.140456\n",
       "Q75          0.224765\n",
       "IQR          0.084309\n",
       "skew         3.140168\n",
       "kurt        36.568461\n",
       "sp.ent       0.895127\n",
       "sfm          0.408216\n",
       "mode         0.165282\n",
       "centroid     0.180907\n",
       "meanfun      0.142807\n",
       "minfun       0.036802\n",
       "maxfun       0.258842\n",
       "meandom      0.829211\n",
       "mindom       0.052647\n",
       "maxdom       5.047277\n",
       "dfrange      4.994630\n",
       "modindx      0.173752\n",
       "dtype: float64"
      ]
     },
     "execution_count": 274,
     "metadata": {},
     "output_type": "execute_result"
    }
   ],
   "source": [
    "ny.mean(set)"
   ]
  },
  {
   "cell_type": "code",
   "execution_count": 275,
   "metadata": {
    "id": "AV_Jqp58_jUH"
   },
   "outputs": [],
   "source": [
    "set.label = [1 if each == \"female\" else 0 for each in set.label]\n"
   ]
  },
  {
   "cell_type": "code",
   "execution_count": 276,
   "metadata": {},
   "outputs": [
    {
     "data": {
      "text/plain": [
       "meanfreq    0.039363\n",
       "sd          0.018363\n",
       "median      0.010975\n",
       "Q25         0.000229\n",
       "Q75         0.042946\n",
       "IQR         0.014558\n",
       "skew        0.141735\n",
       "kurt        2.068455\n",
       "sp.ent      0.738651\n",
       "sfm         0.036876\n",
       "mode        0.000000\n",
       "centroid    0.039363\n",
       "meanfun     0.055565\n",
       "minfun      0.009775\n",
       "maxfun      0.103093\n",
       "meandom     0.007812\n",
       "mindom      0.004883\n",
       "maxdom      0.007812\n",
       "dfrange     0.000000\n",
       "modindx     0.000000\n",
       "dtype: float64"
      ]
     },
     "execution_count": 276,
     "metadata": {},
     "output_type": "execute_result"
    }
   ],
   "source": [
    "y =set.label.values\n",
    "X = set.drop(['label'],axis=1)\n",
    "ny.min(X)"
   ]
  },
  {
   "cell_type": "code",
   "execution_count": 277,
   "metadata": {
    "id": "LPCBgDXN_sG9"
   },
   "outputs": [
    {
     "data": {
      "text/html": [
       "<div>\n",
       "<style scoped>\n",
       "    .dataframe tbody tr th:only-of-type {\n",
       "        vertical-align: middle;\n",
       "    }\n",
       "\n",
       "    .dataframe tbody tr th {\n",
       "        vertical-align: top;\n",
       "    }\n",
       "\n",
       "    .dataframe thead th {\n",
       "        text-align: right;\n",
       "    }\n",
       "</style>\n",
       "<table border=\"1\" class=\"dataframe\">\n",
       "  <thead>\n",
       "    <tr style=\"text-align: right;\">\n",
       "      <th></th>\n",
       "      <th>meanfreq</th>\n",
       "      <th>sd</th>\n",
       "      <th>median</th>\n",
       "      <th>Q25</th>\n",
       "      <th>Q75</th>\n",
       "      <th>IQR</th>\n",
       "      <th>skew</th>\n",
       "      <th>kurt</th>\n",
       "      <th>sp.ent</th>\n",
       "      <th>sfm</th>\n",
       "      <th>mode</th>\n",
       "      <th>centroid</th>\n",
       "      <th>meanfun</th>\n",
       "      <th>minfun</th>\n",
       "      <th>maxfun</th>\n",
       "      <th>meandom</th>\n",
       "      <th>mindom</th>\n",
       "      <th>maxdom</th>\n",
       "      <th>dfrange</th>\n",
       "      <th>modindx</th>\n",
       "    </tr>\n",
       "  </thead>\n",
       "  <tbody>\n",
       "    <tr>\n",
       "      <th>0</th>\n",
       "      <td>0.096419</td>\n",
       "      <td>0.473409</td>\n",
       "      <td>0.084125</td>\n",
       "      <td>0.060063</td>\n",
       "      <td>0.204956</td>\n",
       "      <td>0.254828</td>\n",
       "      <td>0.367853</td>\n",
       "      <td>0.208279</td>\n",
       "      <td>0.635798</td>\n",
       "      <td>0.564526</td>\n",
       "      <td>0.000000</td>\n",
       "      <td>0.096419</td>\n",
       "      <td>0.157706</td>\n",
       "      <td>0.030501</td>\n",
       "      <td>0.981526</td>\n",
       "      <td>0.000000</td>\n",
       "      <td>0.006452</td>\n",
       "      <td>0.000000</td>\n",
       "      <td>0.000000</td>\n",
       "      <td>0.000000</td>\n",
       "    </tr>\n",
       "    <tr>\n",
       "      <th>1</th>\n",
       "      <td>0.125828</td>\n",
       "      <td>0.505075</td>\n",
       "      <td>0.116900</td>\n",
       "      <td>0.077635</td>\n",
       "      <td>0.215683</td>\n",
       "      <td>0.246961</td>\n",
       "      <td>0.644279</td>\n",
       "      <td>0.483766</td>\n",
       "      <td>0.630964</td>\n",
       "      <td>0.591578</td>\n",
       "      <td>0.000000</td>\n",
       "      <td>0.125828</td>\n",
       "      <td>0.287642</td>\n",
       "      <td>0.031140</td>\n",
       "      <td>0.834600</td>\n",
       "      <td>0.000407</td>\n",
       "      <td>0.006452</td>\n",
       "      <td>0.002144</td>\n",
       "      <td>0.002146</td>\n",
       "      <td>0.056449</td>\n",
       "    </tr>\n",
       "    <tr>\n",
       "      <th>2</th>\n",
       "      <td>0.179222</td>\n",
       "      <td>0.675536</td>\n",
       "      <td>0.102873</td>\n",
       "      <td>0.034284</td>\n",
       "      <td>0.385912</td>\n",
       "      <td>0.457148</td>\n",
       "      <td>0.885255</td>\n",
       "      <td>0.782275</td>\n",
       "      <td>0.442738</td>\n",
       "      <td>0.548382</td>\n",
       "      <td>0.000000</td>\n",
       "      <td>0.179222</td>\n",
       "      <td>0.236945</td>\n",
       "      <td>0.030264</td>\n",
       "      <td>0.954963</td>\n",
       "      <td>0.000060</td>\n",
       "      <td>0.006452</td>\n",
       "      <td>0.000357</td>\n",
       "      <td>0.000358</td>\n",
       "      <td>0.049885</td>\n",
       "    </tr>\n",
       "    <tr>\n",
       "      <th>3</th>\n",
       "      <td>0.528261</td>\n",
       "      <td>0.554611</td>\n",
       "      <td>0.587559</td>\n",
       "      <td>0.389906</td>\n",
       "      <td>0.715802</td>\n",
       "      <td>0.407358</td>\n",
       "      <td>0.031549</td>\n",
       "      <td>0.001613</td>\n",
       "      <td>0.923261</td>\n",
       "      <td>0.856457</td>\n",
       "      <td>0.299565</td>\n",
       "      <td>0.528261</td>\n",
       "      <td>0.183442</td>\n",
       "      <td>0.041287</td>\n",
       "      <td>0.834600</td>\n",
       "      <td>0.065659</td>\n",
       "      <td>0.006452</td>\n",
       "      <td>0.025375</td>\n",
       "      <td>0.025393</td>\n",
       "      <td>0.265043</td>\n",
       "    </tr>\n",
       "    <tr>\n",
       "      <th>4</th>\n",
       "      <td>0.452195</td>\n",
       "      <td>0.627209</td>\n",
       "      <td>0.454272</td>\n",
       "      <td>0.317627</td>\n",
       "      <td>0.707515</td>\n",
       "      <td>0.474474</td>\n",
       "      <td>0.027742</td>\n",
       "      <td>0.001732</td>\n",
       "      <td>0.958736</td>\n",
       "      <td>0.926348</td>\n",
       "      <td>0.372362</td>\n",
       "      <td>0.452195</td>\n",
       "      <td>0.279190</td>\n",
       "      <td>0.036829</td>\n",
       "      <td>0.929285</td>\n",
       "      <td>0.238994</td>\n",
       "      <td>0.006452</td>\n",
       "      <td>0.250536</td>\n",
       "      <td>0.250715</td>\n",
       "      <td>0.223380</td>\n",
       "    </tr>\n",
       "    <tr>\n",
       "      <th>...</th>\n",
       "      <td>...</td>\n",
       "      <td>...</td>\n",
       "      <td>...</td>\n",
       "      <td>...</td>\n",
       "      <td>...</td>\n",
       "      <td>...</td>\n",
       "      <td>...</td>\n",
       "      <td>...</td>\n",
       "      <td>...</td>\n",
       "      <td>...</td>\n",
       "      <td>...</td>\n",
       "      <td>...</td>\n",
       "      <td>...</td>\n",
       "      <td>...</td>\n",
       "      <td>...</td>\n",
       "      <td>...</td>\n",
       "      <td>...</td>\n",
       "      <td>...</td>\n",
       "      <td>...</td>\n",
       "      <td>...</td>\n",
       "    </tr>\n",
       "    <tr>\n",
       "      <th>3163</th>\n",
       "      <td>0.436911</td>\n",
       "      <td>0.684871</td>\n",
       "      <td>0.570361</td>\n",
       "      <td>0.198513</td>\n",
       "      <td>0.686256</td>\n",
       "      <td>0.577704</td>\n",
       "      <td>0.046854</td>\n",
       "      <td>0.003489</td>\n",
       "      <td>0.921665</td>\n",
       "      <td>0.901057</td>\n",
       "      <td>0.717272</td>\n",
       "      <td>0.436911</td>\n",
       "      <td>0.698762</td>\n",
       "      <td>0.380813</td>\n",
       "      <td>0.904450</td>\n",
       "      <td>0.279703</td>\n",
       "      <td>0.006452</td>\n",
       "      <td>0.192280</td>\n",
       "      <td>0.192418</td>\n",
       "      <td>0.173674</td>\n",
       "    </tr>\n",
       "    <tr>\n",
       "      <th>3164</th>\n",
       "      <td>0.362946</td>\n",
       "      <td>0.731172</td>\n",
       "      <td>0.262871</td>\n",
       "      <td>0.171937</td>\n",
       "      <td>0.702595</td>\n",
       "      <td>0.621185</td>\n",
       "      <td>0.015961</td>\n",
       "      <td>0.000333</td>\n",
       "      <td>0.912549</td>\n",
       "      <td>0.834545</td>\n",
       "      <td>0.048868</td>\n",
       "      <td>0.362946</td>\n",
       "      <td>0.732760</td>\n",
       "      <td>0.126776</td>\n",
       "      <td>0.981526</td>\n",
       "      <td>0.305791</td>\n",
       "      <td>0.075269</td>\n",
       "      <td>0.167977</td>\n",
       "      <td>0.166667</td>\n",
       "      <td>0.298053</td>\n",
       "    </tr>\n",
       "    <tr>\n",
       "      <th>3165</th>\n",
       "      <td>0.484949</td>\n",
       "      <td>0.799042</td>\n",
       "      <td>0.690337</td>\n",
       "      <td>0.134329</td>\n",
       "      <td>0.786967</td>\n",
       "      <td>0.742124</td>\n",
       "      <td>0.050161</td>\n",
       "      <td>0.003469</td>\n",
       "      <td>0.855587</td>\n",
       "      <td>0.765849</td>\n",
       "      <td>0.028592</td>\n",
       "      <td>0.484949</td>\n",
       "      <td>0.847759</td>\n",
       "      <td>0.153011</td>\n",
       "      <td>0.981526</td>\n",
       "      <td>0.164908</td>\n",
       "      <td>0.006452</td>\n",
       "      <td>0.134024</td>\n",
       "      <td>0.134120</td>\n",
       "      <td>0.208885</td>\n",
       "    </tr>\n",
       "    <tr>\n",
       "      <th>3166</th>\n",
       "      <td>0.492516</td>\n",
       "      <td>0.745692</td>\n",
       "      <td>0.695311</td>\n",
       "      <td>0.175136</td>\n",
       "      <td>0.767804</td>\n",
       "      <td>0.681107</td>\n",
       "      <td>0.041908</td>\n",
       "      <td>0.002539</td>\n",
       "      <td>0.870307</td>\n",
       "      <td>0.792241</td>\n",
       "      <td>0.757865</td>\n",
       "      <td>0.492516</td>\n",
       "      <td>0.641561</td>\n",
       "      <td>0.127158</td>\n",
       "      <td>0.834600</td>\n",
       "      <td>0.265621</td>\n",
       "      <td>0.006452</td>\n",
       "      <td>0.164046</td>\n",
       "      <td>0.164163</td>\n",
       "      <td>0.333559</td>\n",
       "    </tr>\n",
       "    <tr>\n",
       "      <th>3167</th>\n",
       "      <td>0.595700</td>\n",
       "      <td>0.768964</td>\n",
       "      <td>0.687590</td>\n",
       "      <td>0.282629</td>\n",
       "      <td>0.901780</td>\n",
       "      <td>0.699289</td>\n",
       "      <td>0.045203</td>\n",
       "      <td>0.002830</td>\n",
       "      <td>0.822610</td>\n",
       "      <td>0.700510</td>\n",
       "      <td>0.956078</td>\n",
       "      <td>0.595700</td>\n",
       "      <td>0.714235</td>\n",
       "      <td>0.270097</td>\n",
       "      <td>0.954963</td>\n",
       "      <td>0.074312</td>\n",
       "      <td>0.006452</td>\n",
       "      <td>0.025018</td>\n",
       "      <td>0.025036</td>\n",
       "      <td>0.375386</td>\n",
       "    </tr>\n",
       "  </tbody>\n",
       "</table>\n",
       "<p>3168 rows × 20 columns</p>\n",
       "</div>"
      ],
      "text/plain": [
       "      meanfreq        sd    median       Q25       Q75       IQR      skew  \\\n",
       "0     0.096419  0.473409  0.084125  0.060063  0.204956  0.254828  0.367853   \n",
       "1     0.125828  0.505075  0.116900  0.077635  0.215683  0.246961  0.644279   \n",
       "2     0.179222  0.675536  0.102873  0.034284  0.385912  0.457148  0.885255   \n",
       "3     0.528261  0.554611  0.587559  0.389906  0.715802  0.407358  0.031549   \n",
       "4     0.452195  0.627209  0.454272  0.317627  0.707515  0.474474  0.027742   \n",
       "...        ...       ...       ...       ...       ...       ...       ...   \n",
       "3163  0.436911  0.684871  0.570361  0.198513  0.686256  0.577704  0.046854   \n",
       "3164  0.362946  0.731172  0.262871  0.171937  0.702595  0.621185  0.015961   \n",
       "3165  0.484949  0.799042  0.690337  0.134329  0.786967  0.742124  0.050161   \n",
       "3166  0.492516  0.745692  0.695311  0.175136  0.767804  0.681107  0.041908   \n",
       "3167  0.595700  0.768964  0.687590  0.282629  0.901780  0.699289  0.045203   \n",
       "\n",
       "          kurt    sp.ent       sfm      mode  centroid   meanfun    minfun  \\\n",
       "0     0.208279  0.635798  0.564526  0.000000  0.096419  0.157706  0.030501   \n",
       "1     0.483766  0.630964  0.591578  0.000000  0.125828  0.287642  0.031140   \n",
       "2     0.782275  0.442738  0.548382  0.000000  0.179222  0.236945  0.030264   \n",
       "3     0.001613  0.923261  0.856457  0.299565  0.528261  0.183442  0.041287   \n",
       "4     0.001732  0.958736  0.926348  0.372362  0.452195  0.279190  0.036829   \n",
       "...        ...       ...       ...       ...       ...       ...       ...   \n",
       "3163  0.003489  0.921665  0.901057  0.717272  0.436911  0.698762  0.380813   \n",
       "3164  0.000333  0.912549  0.834545  0.048868  0.362946  0.732760  0.126776   \n",
       "3165  0.003469  0.855587  0.765849  0.028592  0.484949  0.847759  0.153011   \n",
       "3166  0.002539  0.870307  0.792241  0.757865  0.492516  0.641561  0.127158   \n",
       "3167  0.002830  0.822610  0.700510  0.956078  0.595700  0.714235  0.270097   \n",
       "\n",
       "        maxfun   meandom    mindom    maxdom   dfrange   modindx  \n",
       "0     0.981526  0.000000  0.006452  0.000000  0.000000  0.000000  \n",
       "1     0.834600  0.000407  0.006452  0.002144  0.002146  0.056449  \n",
       "2     0.954963  0.000060  0.006452  0.000357  0.000358  0.049885  \n",
       "3     0.834600  0.065659  0.006452  0.025375  0.025393  0.265043  \n",
       "4     0.929285  0.238994  0.006452  0.250536  0.250715  0.223380  \n",
       "...        ...       ...       ...       ...       ...       ...  \n",
       "3163  0.904450  0.279703  0.006452  0.192280  0.192418  0.173674  \n",
       "3164  0.981526  0.305791  0.075269  0.167977  0.166667  0.298053  \n",
       "3165  0.981526  0.164908  0.006452  0.134024  0.134120  0.208885  \n",
       "3166  0.834600  0.265621  0.006452  0.164046  0.164163  0.333559  \n",
       "3167  0.954963  0.074312  0.006452  0.025018  0.025036  0.375386  \n",
       "\n",
       "[3168 rows x 20 columns]"
      ]
     },
     "execution_count": 277,
     "metadata": {},
     "output_type": "execute_result"
    }
   ],
   "source": [
    "x = (X -ny.min(X)) / (ny.max(X)-ny.min(X)). values\n",
    "x"
   ]
  },
  {
   "cell_type": "code",
   "execution_count": 278,
   "metadata": {
    "id": "vkxYHAqbAJci"
   },
   "outputs": [],
   "source": [
    "xtrain, xtest, ytrain, ytest = train_test_split (x,y,test_size=0.3,random_state = 30)\n",
    "svm = SVC(C=1,gamma=1,kernel='rbf')\n",
    "svm.fit(xtrain, ytrain)\n",
    "SVM_f=svm.predict(xtest)\n",
    "conf = confusion_matrix(ytest, SVM_f)"
   ]
  },
  {
   "cell_type": "code",
   "execution_count": 279,
   "metadata": {
    "colab": {
     "base_uri": "https://localhost:8080/",
     "height": 334
    },
    "id": "Lliqabu0E1tt",
    "outputId": "0d53c770-d107-43dc-c2bc-29faa64e8ede"
   },
   "outputs": [
    {
     "data": {
      "image/png": "[encoded data removed]",
      "text/plain": [
       "<Figure size 640x480 with 2 Axes>"
      ]
     },
     "metadata": {},
     "output_type": "display_data"
    }
   ],
   "source": [
    "plot_confusion_matrix(svm, xtest, ytest)  \n",
    "plt.show()"
   ]
  },
  {
   "cell_type": "code",
   "execution_count": 280,
   "metadata": {
    "colab": {
     "base_uri": "https://localhost:8080/"
    },
    "id": "2JL2fFD486ig",
    "outputId": "8e7be6c7-e7ab-4d3f-d5b2-256a5d8db66c"
   },
   "outputs": [
    {
     "data": {
      "text/plain": [
       "{'tp': 473,\n",
       " 'tn': 459,\n",
       " 'fp': 7,\n",
       " 'fn': 12,\n",
       " 'accuracy': 0.9800210304942166,\n",
       " 'sensitivity': 0.9752577319587629,\n",
       " 'specificity': 0.9849785407725322,\n",
       " 'precision': 0.9854166666666667,\n",
       " 'recall': 0.9752577319587629,\n",
       " 'f-score': 0.9803108808290156,\n",
       " 'AUC': 0.9801181363656475,\n",
       " 'Youden': 0.9602362727312951,\n",
       " 'p+': 64.92430044182635,\n",
       " 'p-': 0.02511960110504685,\n",
       " 'DP': 2.0812956448947815}"
      ]
     },
     "execution_count": 280,
     "metadata": {},
     "output_type": "execute_result"
    }
   ],
   "source": [
    "TP = conf[1,1]\n",
    "FP = conf[0,1]\n",
    "TN = conf[0,0]\n",
    "FN = conf[1,0]\n",
    "SVM_results = performance_evaluation(TP, TN, FP, FN)\n",
    "SVM_results.get(\"Youden\")\n",
    "SVM_results"
   ]
  },
  {
   "cell_type": "code",
   "execution_count": 281,
   "metadata": {
    "id": "uHzN0s0HFcIU"
   },
   "outputs": [],
   "source": [
    "#DecisionTreeClassifier"
   ]
  },
  {
   "cell_type": "code",
   "execution_count": 282,
   "metadata": {
    "id": "W1iQBcDShMbu"
   },
   "outputs": [],
   "source": [
    "xtrain, xtest, ytrain, ytest = train_test_split (x,y,test_size=0.3,random_state = 30)\n",
    "dectree = DecisionTreeClassifier()\n",
    "dectree.fit(xtrain, ytrain)\n",
    "DT_f=dectree.predict(xtest) \n",
    "conf = confusion_matrix(ytest, DT_f)"
   ]
  },
  {
   "cell_type": "code",
   "execution_count": 283,
   "metadata": {},
   "outputs": [],
   "source": [
    "tree.export_graphviz(dectree, out_file='deccision_tree_2.dot',\n",
    "                     feature_names=['meanfreq','sd','median','Q25','Q75','IQR','skew','kurt','sp.ent','sfm','mode','centroid','meanfun','minfun','maxfun','meandom','mindom','maxdom','dfrange','modindx'],\n",
    "                     class_names=['Female','Male'],\n",
    "                     label='all',\n",
    "                     rounded=True,\n",
    "                     filled=True)"
   ]
  },
  {
   "cell_type": "code",
   "execution_count": 284,
   "metadata": {
    "colab": {
     "base_uri": "https://localhost:8080/",
     "height": 334
    },
    "id": "G4vxvsgGVo84",
    "outputId": "9bef6a88-a817-4d12-af00-d1d051b88aa5"
   },
   "outputs": [
    {
     "data": {
      "image/png": "[encoded data removed]",
      "text/plain": [
       "<Figure size 640x480 with 2 Axes>"
      ]
     },
     "metadata": {},
     "output_type": "display_data"
    }
   ],
   "source": [
    "plot_confusion_matrix(dectree, xtest, ytest)  \n",
    "plt.show()"
   ]
  },
  {
   "cell_type": "code",
   "execution_count": 285,
   "metadata": {
    "colab": {
     "base_uri": "https://localhost:8080/"
    },
    "id": "tO4Ur0kQ955V",
    "outputId": "0e28bcda-4eb4-4d56-f696-4a6e32ea6273"
   },
   "outputs": [
    {
     "data": {
      "text/plain": [
       "{'tp': 470,\n",
       " 'tn': 452,\n",
       " 'fp': 14,\n",
       " 'fn': 15,\n",
       " 'accuracy': 0.9695057833859095,\n",
       " 'sensitivity': 0.9690721649484536,\n",
       " 'specificity': 0.9699570815450643,\n",
       " 'precision': 0.9710743801652892,\n",
       " 'recall': 0.9690721649484536,\n",
       " 'f-score': 0.9700722394220845,\n",
       " 'AUC': 0.969514623246759,\n",
       " 'Youden': 0.9390292464935179,\n",
       " 'p+': 32.256259204712755,\n",
       " 'p-': 0.03188577684517836,\n",
       " 'DP': 1.9571326983954749}"
      ]
     },
     "execution_count": 285,
     "metadata": {},
     "output_type": "execute_result"
    }
   ],
   "source": [
    "TP = conf[1,1]\n",
    "FP = conf[0,1]\n",
    "TN = conf[0,0]\n",
    "FN = conf[1,0]\n",
    "DT_results = performance_evaluation(TP, TN, FP, FN)\n",
    "DT_results"
   ]
  },
  {
   "cell_type": "code",
   "execution_count": 286,
   "metadata": {
    "id": "ggqjytbyWw82"
   },
   "outputs": [],
   "source": [
    "#Logistic Regression"
   ]
  },
  {
   "cell_type": "code",
   "execution_count": 287,
   "metadata": {
    "colab": {
     "base_uri": "https://localhost:8080/"
    },
    "id": "IPXuRLsvW_6m",
    "outputId": "33b4e93f-df47-4c2e-9317-d78508676e17"
   },
   "outputs": [],
   "source": [
    "xtrain, xtest, ytrain, ytest = train_test_split (x,y,test_size=0.2,random_state = 30)\n",
    "logreg = LogisticRegression(solver='liblinear',penalty='l1')\n",
    "logreg.fit(xtrain, ytrain)\n",
    "LogReg_f=logreg.predict(xtest)\n",
    "conf = confusion_matrix(ytest, LogReg_f)"
   ]
  },
  {
   "cell_type": "code",
   "execution_count": 288,
   "metadata": {
    "colab": {
     "base_uri": "https://localhost:8080/",
     "height": 335
    },
    "id": "3CMkv_MuXuWu",
    "outputId": "6a54c294-f342-41e1-a6ff-b6c6b307ab44"
   },
   "outputs": [
    {
     "data": {
      "image/png": "[encoded data removed]",
      "text/plain": [
       "<Figure size 640x480 with 2 Axes>"
      ]
     },
     "metadata": {},
     "output_type": "display_data"
    }
   ],
   "source": [
    "plot_confusion_matrix(logreg, xtest, ytest)  \n",
    "plt.show()"
   ]
  },
  {
   "cell_type": "code",
   "execution_count": 289,
   "metadata": {
    "colab": {
     "base_uri": "https://localhost:8080/"
    },
    "id": "8pN79mmt-6ng",
    "outputId": "e8b93dae-383e-49dd-cc49-98df17a19a65"
   },
   "outputs": [
    {
     "data": {
      "text/plain": [
       "{'tp': 313,\n",
       " 'tn': 308,\n",
       " 'fp': 5,\n",
       " 'fn': 8,\n",
       " 'accuracy': 0.9794952681388013,\n",
       " 'sensitivity': 0.9750778816199377,\n",
       " 'specificity': 0.9840255591054313,\n",
       " 'precision': 0.9842767295597484,\n",
       " 'recall': 0.9750778816199377,\n",
       " 'f-score': 0.9796557120500782,\n",
       " 'AUC': 0.9795517203626845,\n",
       " 'Youden': 0.959103440725369,\n",
       " 'p+': 61.03987538940815,\n",
       " 'p-': 0.025326698223894488,\n",
       " 'DP': 2.076799120704391}"
      ]
     },
     "execution_count": 289,
     "metadata": {},
     "output_type": "execute_result"
    }
   ],
   "source": [
    "TP = conf[1,1]\n",
    "FP = conf[0,1]\n",
    "TN = conf[0,0]\n",
    "FN = conf[1,0]\n",
    "LogReg_results = performance_evaluation(TP, TN, FP, FN)\n",
    "LogReg_results"
   ]
  },
  {
   "cell_type": "code",
   "execution_count": 290,
   "metadata": {
    "id": "GHMEI38KXw4u"
   },
   "outputs": [],
   "source": [
    "#RandomForestClassifier "
   ]
  },
  {
   "cell_type": "code",
   "execution_count": 291,
   "metadata": {
    "id": "LQpWmwKCYkQ7"
   },
   "outputs": [],
   "source": [
    "xtrain, xtest, ytrain, ytest = train_test_split (x,y,test_size=0.3,random_state = 30)\n",
    "randforest = RandomForestClassifier (n_estimators=100)\n",
    "randforest.fit(xtrain, ytrain)\n",
    "RF_f=randforest.predict(xtest) \n",
    "conf = confusion_matrix(ytest, RF_f)"
   ]
  },
  {
   "cell_type": "code",
   "execution_count": 292,
   "metadata": {
    "colab": {
     "base_uri": "https://localhost:8080/",
     "height": 334
    },
    "id": "_wOVKjJa2Fg2",
    "outputId": "65fef2a5-ae39-4be0-b1b5-2571a0837353"
   },
   "outputs": [
    {
     "data": {
      "image/png": "[encoded data removed]",
      "text/plain": [
       "<Figure size 640x480 with 2 Axes>"
      ]
     },
     "metadata": {},
     "output_type": "display_data"
    }
   ],
   "source": [
    "plot_confusion_matrix(randforest, xtest, ytest)  \n",
    "plt.show()"
   ]
  },
  {
   "cell_type": "code",
   "execution_count": 293,
   "metadata": {
    "colab": {
     "base_uri": "https://localhost:8080/"
    },
    "id": "iw2iXBv_1Pu5",
    "outputId": "4de024fe-7c34-4e49-ff08-482c51479af3"
   },
   "outputs": [
    {
     "data": {
      "text/plain": [
       "{'tp': 479,\n",
       " 'tn': 456,\n",
       " 'fp': 10,\n",
       " 'fn': 6,\n",
       " 'accuracy': 0.9831756046267087,\n",
       " 'sensitivity': 0.9876288659793815,\n",
       " 'specificity': 0.9785407725321889,\n",
       " 'precision': 0.9795501022494888,\n",
       " 'recall': 0.9876288659793815,\n",
       " 'f-score': 0.9835728952772074,\n",
       " 'AUC': 0.9830848192557852,\n",
       " 'Youden': 0.9661696385115703,\n",
       " 'p+': 46.0235051546392,\n",
       " 'p-': 0.012642430819316286,\n",
       " 'DP': 2.440556689640832}"
      ]
     },
     "execution_count": 293,
     "metadata": {},
     "output_type": "execute_result"
    }
   ],
   "source": [
    "TP = conf[1,1]\n",
    "FP = conf[0,1]\n",
    "TN = conf[0,0]\n",
    "FN = conf[1,0]\n",
    "RF_results = performance_evaluation(TP, TN, FP, FN)\n",
    "RF_results"
   ]
  },
  {
   "cell_type": "code",
   "execution_count": 294,
   "metadata": {
    "id": "gaVaxqe9ZgQN"
   },
   "outputs": [],
   "source": [
    "#KNeighborsClassifier \n"
   ]
  },
  {
   "cell_type": "code",
   "execution_count": 295,
   "metadata": {
    "id": "d8jIF2mOZsAf"
   },
   "outputs": [],
   "source": [
    "xtrain, xtest, ytrain, ytest = train_test_split (x,y,test_size=0.3,random_state = 30)\n",
    "knn = KNeighborsClassifier(n_neighbors=12)\n",
    "knn.fit (xtrain, ytrain)\n",
    "KNN_f=knn.predict(xtest) \n",
    "conf = confusion_matrix(ytest, KNN_f)"
   ]
  },
  {
   "cell_type": "code",
   "execution_count": 296,
   "metadata": {
    "colab": {
     "base_uri": "https://localhost:8080/",
     "height": 338
    },
    "id": "t0IOhBhEaRF1",
    "outputId": "9573b097-dbbe-4bbb-93f6-f8aa7935fe4d"
   },
   "outputs": [
    {
     "data": {
      "image/png": "[encoded data removed]",
      "text/plain": [
       "<Figure size 640x480 with 2 Axes>"
      ]
     },
     "metadata": {},
     "output_type": "display_data"
    }
   ],
   "source": [
    "plot_confusion_matrix(knn, xtest, ytest)  \n",
    "plt.show()"
   ]
  },
  {
   "cell_type": "code",
   "execution_count": 297,
   "metadata": {
    "colab": {
     "base_uri": "https://localhost:8080/"
    },
    "id": "aFdbEcLr_7vL",
    "outputId": "dbc58c4b-efe8-44ab-9368-748d8d93dc66"
   },
   "outputs": [
    {
     "data": {
      "text/plain": [
       "{'tp': 465,\n",
       " 'tn': 459,\n",
       " 'fp': 7,\n",
       " 'fn': 20,\n",
       " 'accuracy': 0.9716088328075709,\n",
       " 'sensitivity': 0.9587628865979382,\n",
       " 'specificity': 0.9849785407725322,\n",
       " 'precision': 0.9851694915254238,\n",
       " 'recall': 0.9587628865979382,\n",
       " 'f-score': 0.9717868338557993,\n",
       " 'AUC': 0.9718707136852351,\n",
       " 'Youden': 0.9437414273704704,\n",
       " 'p+': 63.82621502209144,\n",
       " 'p-': 0.04186600184174468,\n",
       " 'DP': 1.8258644473747896}"
      ]
     },
     "execution_count": 297,
     "metadata": {},
     "output_type": "execute_result"
    }
   ],
   "source": [
    "TP = conf[1,1]\n",
    "FP = conf[0,1]\n",
    "TN = conf[0,0]\n",
    "FN = conf[1,0]\n",
    "KNN_results = performance_evaluation(TP, TN, FP, FN)\n",
    "KNN_results"
   ]
  },
  {
   "cell_type": "code",
   "execution_count": 298,
   "metadata": {
    "id": "5D7Jev5_asPl"
   },
   "outputs": [],
   "source": [
    "#GradientBoostingClassifier \n"
   ]
  },
  {
   "cell_type": "code",
   "execution_count": 299,
   "metadata": {
    "id": "cZtYwt7obPiA"
   },
   "outputs": [],
   "source": [
    "xtrain, xtest, ytrain, ytest = train_test_split (x,y,test_size=0.3,random_state = 30)\n",
    "gbc = GradientBoostingClassifier(n_estimators=100, learning_rate=1.0, max_depth=1)\n",
    "gbc.fit(xtrain, ytrain)\n",
    "GBC_f=gbc.predict(xtest) \n",
    "conf = confusion_matrix(ytest, GBC_f)"
   ]
  },
  {
   "cell_type": "code",
   "execution_count": 300,
   "metadata": {
    "colab": {
     "base_uri": "https://localhost:8080/",
     "height": 334
    },
    "id": "cVxvJBG6beNx",
    "outputId": "0daab640-407d-4a0e-8e25-45e0d157d787"
   },
   "outputs": [
    {
     "data": {
      "image/png": "[encoded data removed]",
      "text/plain": [
       "<Figure size 640x480 with 2 Axes>"
      ]
     },
     "metadata": {},
     "output_type": "display_data"
    }
   ],
   "source": [
    "plot_confusion_matrix(gbc, xtest, ytest)  \n",
    "plt.show()"
   ]
  },
  {
   "cell_type": "code",
   "execution_count": 301,
   "metadata": {
    "colab": {
     "base_uri": "https://localhost:8080/"
    },
    "id": "IJO-mdYmbiM0",
    "outputId": "ef64fd69-7b97-4478-9c99-533479d66fc2"
   },
   "outputs": [
    {
     "data": {
      "text/plain": [
       "{'tp': 475,\n",
       " 'tn': 458,\n",
       " 'fp': 8,\n",
       " 'fn': 10,\n",
       " 'accuracy': 0.9810725552050473,\n",
       " 'sensitivity': 0.979381443298969,\n",
       " 'specificity': 0.9828326180257511,\n",
       " 'precision': 0.9834368530020704,\n",
       " 'recall': 0.979381443298969,\n",
       " 'f-score': 0.981404958677686,\n",
       " 'AUC': 0.98110703066236,\n",
       " 'Youden': 0.9622140613247201,\n",
       " 'p+': 57.0489690721649,\n",
       " 'p-': 0.020978706163057706,\n",
       " 'DP': 2.173615443204584}"
      ]
     },
     "execution_count": 301,
     "metadata": {},
     "output_type": "execute_result"
    }
   ],
   "source": [
    "TP = conf[1,1]\n",
    "FP = conf[0,1]\n",
    "TN = conf[0,0]\n",
    "FN = conf[1,0]\n",
    "GCB_results = performance_evaluation(TP, TN, FP, FN)\n",
    "GCB_results"
   ]
  },
  {
   "cell_type": "code",
   "execution_count": null,
   "metadata": {},
   "outputs": [],
   "source": [
    "#Deep Neural_Net"
   ]
  },
  {
   "cell_type": "code",
   "execution_count": 302,
   "metadata": {
    "scrolled": true
   },
   "outputs": [
    {
     "name": "stderr",
     "output_type": "stream",
     "text": [
      "C:\\Users\\ronys\\anaconda3\\lib\\site-packages\\sklearn\\neural_network\\_multilayer_perceptron.py:582: ConvergenceWarning: Stochastic Optimizer: Maximum iterations (200) reached and the optimization hasn't converged yet.\n",
      "  warnings.warn(\n"
     ]
    }
   ],
   "source": [
    "xtrain, xtest, ytrain, ytest = train_test_split (x,y,test_size=0.3,random_state = 30)\n",
    "nn = MLPClassifier(solver='sgd',activation= 'logistic',learning_rate_init=1,hidden_layer_sizes=(15,10))\n",
    "\n",
    "nn.fit (xtrain, ytrain)\n",
    "NN_f=nn.predict(xtest) \n",
    "conf = confusion_matrix(ytest, NN_f)"
   ]
  },
  {
   "cell_type": "code",
   "execution_count": 303,
   "metadata": {},
   "outputs": [
    {
     "data": {
      "image/png": "[encoded data removed]",
      "text/plain": [
       "<Figure size 640x480 with 2 Axes>"
      ]
     },
     "metadata": {},
     "output_type": "display_data"
    }
   ],
   "source": [
    "plot_confusion_matrix(nn, xtest, ytest)  \n",
    "plt.show()"
   ]
  },
  {
   "cell_type": "code",
   "execution_count": 304,
   "metadata": {},
   "outputs": [
    {
     "data": {
      "text/plain": [
       "0.960152205654617"
      ]
     },
     "execution_count": 304,
     "metadata": {},
     "output_type": "execute_result"
    }
   ],
   "source": [
    "TP = conf[1,1]\n",
    "FP = conf[0,1]\n",
    "TN = conf[0,0]\n",
    "FN = conf[1,0]\n",
    "NN_results = performance_evaluation(TP, TN, FP, FN)\n",
    "NN_results\n",
    "NN_results.get(\"Youden\")"
   ]
  },
  {
   "cell_type": "code",
   "execution_count": 305,
   "metadata": {
    "id": "F6MY4VuiXzWJ"
   },
   "outputs": [],
   "source": [
    "import matplotlib.pyplot as plt; plt.rcdefaults()\n",
    "import numpy as np\n",
    "import matplotlib.pyplot as plt\n"
   ]
  },
  {
   "cell_type": "code",
   "execution_count": 306,
   "metadata": {
    "colab": {
     "base_uri": "https://localhost:8080/",
     "height": 472
    },
    "id": "3cTsIE32ZfMG",
    "outputId": "a6d4a8c4-e92d-4b68-ad59-d69ceb36d060"
   },
   "outputs": [
    {
     "data": {
      "image/png": "[encoded data removed]",
      "text/plain": [
       "<Figure size 640x480 with 1 Axes>"
      ]
     },
     "metadata": {},
     "output_type": "display_data"
    }
   ],
   "source": [
    "from matplotlib import pyplot as plt\n",
    "import numpy as np\n",
    "\n",
    "# plt.rcParams[\"figure.figsize\"] = [7.50, 3.50]\n",
    "# plt.rcParams[\"figure.autolayout\"] = True\n",
    "\n",
    "x = ['LogReg', 'RF', 'DT', 'KNN', 'GBC', 'SVM','DNN']\n",
    "logReg = \"{:.4f}\".format(LogReg_results.get(\"Youden\"))\n",
    "rf = \"{:.4f}\".format(RF_results.get(\"Youden\"))\n",
    "dt = \"{:.4f}\".format(DT_results.get(\"Youden\"))\n",
    "knn = \"{:.4f}\".format(KNN_results.get(\"Youden\"))\n",
    "gbc = \"{:.4f}\".format(GCB_results.get(\"Youden\"))\n",
    "svm = \"{:.4f}\".format(SVM_results.get(\"Youden\"))\n",
    "nn = \"{:.4f}\".format(NN_results.get(\"Youden\"))\n",
    "\n",
    "\n",
    "y = [float(logReg),float(rf),float(dt),float(knn),float(gbc),float(svm),float(nn)]\n",
    "\n",
    "width = 0.35\n",
    "fig, ax = plt.subplots()\n",
    "\n",
    "pps = ax.bar(x, y, width, align='center')\n",
    "ax.set_ylabel(\"Youden's index\")\n",
    "ax.set_xlabel('Algorithms')\n",
    "ax.set_title('Compare Difference Algorithms')\n",
    "\n",
    "\n",
    "for p in pps:\n",
    "   height = p.get_height()\n",
    "   ax.text(x=p.get_x() + p.get_width() / 2, y=height+.01,\n",
    "      s=\"{}%\".format(height),\n",
    "      ha='center')\n",
    "   \n",
    "plt.savefig('barChart.png')\n",
    "plt.show()"
   ]
  }
 ],
 "metadata": {
  "colab": {
   "collapsed_sections": [],
   "name": "AiExam.ipynb",
   "provenance": []
  },
  "kernelspec": {
   "display_name": "Python 3",
   "language": "python",
   "name": "python3"
  },
  "language_info": {
   "codemirror_mode": {
    "name": "ipython",
    "version": 3
   },
   "file_extension": ".py",
   "mimetype": "text/x-python",
   "name": "python",
   "nbconvert_exporter": "python",
   "pygments_lexer": "ipython3",
   "version": "3.8.3"
  }
 },
 "nbformat": 4,
 "nbformat_minor": 1
}
