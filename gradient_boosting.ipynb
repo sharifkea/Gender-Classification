{
 "cells": [
  {
   "cell_type": "code",
   "execution_count": 9,
   "metadata": {},
   "outputs": [],
   "source": [
    "import matplotlib.pyplot as plt\n",
    "from mlxtend.plotting import plot_decision_regions\n",
    "import numpy as ny\n",
    "import pandas as ps\n",
    "from sklearn.svm import SVC\n",
    "from sklearn.model_selection import train_test_split\n",
    "from sklearn.metrics import accuracy_score, precision_score, recall_score, f1_score, cohen_kappa_score\n",
    "import matplotlib.pyplot as plt\n",
    "from sklearn.datasets import make_classification\n",
    "from sklearn.metrics import plot_confusion_matrix\n",
    "from sklearn.tree import DecisionTreeClassifier \n",
    "from sklearn.metrics import confusion_matrix\n",
    "from sklearn import preprocessing\n",
    "from sklearn.linear_model import LogisticRegression \n",
    "from sklearn.ensemble import RandomForestClassifier \n",
    "from sklearn.neighbors import KNeighborsClassifier \n",
    "from sklearn.ensemble import GradientBoostingClassifier \n",
    "from sklearn import tree\n",
    "\n",
    "\n",
    "from sklearn.model_selection import cross_val_score\n",
    "from sklearn.model_selection import KFold"
   ]
  },
  {
   "cell_type": "code",
   "execution_count": 10,
   "metadata": {},
   "outputs": [],
   "source": [
    "def performance_evaluation(tp, tn, fp, fn, beta=1.0):\n",
    "\n",
    "   accuracy = (tp + tn) / (tp + fp + fn + tn)\n",
    "   sensitivity = tp / (tp + fn)\n",
    "   specificity = tn / (fp + tn)\n",
    "   precision = tp / (tp + fp)\n",
    "   recall = sensitivity\n",
    "   f_score = ( (beta**2 + 1) * precision * recall) / (beta**2 * precision + recall)\n",
    "   auc = (sensitivity + specificity) / 2\n",
    "   youden = sensitivity - (1 - specificity)\n",
    "   p_plus = sensitivity / (1 - specificity)\n",
    "   p_minus = (1 - sensitivity) / specificity\n",
    "   dp = (ny.sqrt(3) / ny.pi) * (ny.log(sensitivity/(1 - sensitivity) + ny.log(specificity/(1 - specificity))))\n",
    "\n",
    "   result = {}\n",
    "   result[\"tp\"] = tp\n",
    "   result[\"tn\"] = tn\n",
    "   result[\"fp\"] = fp\n",
    "   result[\"fn\"] = fn\n",
    "   result[\"accuracy\"] = accuracy\n",
    "   result[\"sensitivity\"] = sensitivity\n",
    "   result[\"specificity\"] = specificity\n",
    "   result[\"precision\"] = precision\n",
    "   result[\"recall\"] = recall\n",
    "   result[\"f-score\"] = f_score\n",
    "   result[\"AUC\"] = auc\n",
    "   result[\"Youden\"] = youden\n",
    "   result[\"p+\"] = p_plus\n",
    "   result[\"p-\"] = p_minus\n",
    "   result[\"DP\"] = dp\n",
    "\n",
    "   return result"
   ]
  },
  {
   "cell_type": "code",
   "execution_count": 11,
   "metadata": {},
   "outputs": [],
   "source": [
    "set = ps.read_csv(\"voice.csv\")"
   ]
  },
  {
   "cell_type": "code",
   "execution_count": 12,
   "metadata": {},
   "outputs": [],
   "source": [
    "set.label = [1 if each == \"female\" else 0 for each in set.label]"
   ]
  },
  {
   "cell_type": "code",
   "execution_count": 13,
   "metadata": {},
   "outputs": [
    {
     "data": {
      "text/html": [
       "<div>\n",
       "<style scoped>\n",
       "    .dataframe tbody tr th:only-of-type {\n",
       "        vertical-align: middle;\n",
       "    }\n",
       "\n",
       "    .dataframe tbody tr th {\n",
       "        vertical-align: top;\n",
       "    }\n",
       "\n",
       "    .dataframe thead th {\n",
       "        text-align: right;\n",
       "    }\n",
       "</style>\n",
       "<table border=\"1\" class=\"dataframe\">\n",
       "  <thead>\n",
       "    <tr style=\"text-align: right;\">\n",
       "      <th></th>\n",
       "      <th>IQR</th>\n",
       "      <th>meanfun</th>\n",
       "    </tr>\n",
       "  </thead>\n",
       "  <tbody>\n",
       "    <tr>\n",
       "      <th>0</th>\n",
       "      <td>0.075122</td>\n",
       "      <td>0.084279</td>\n",
       "    </tr>\n",
       "    <tr>\n",
       "      <th>1</th>\n",
       "      <td>0.073252</td>\n",
       "      <td>0.107937</td>\n",
       "    </tr>\n",
       "    <tr>\n",
       "      <th>2</th>\n",
       "      <td>0.123207</td>\n",
       "      <td>0.098706</td>\n",
       "    </tr>\n",
       "    <tr>\n",
       "      <th>3</th>\n",
       "      <td>0.111374</td>\n",
       "      <td>0.088965</td>\n",
       "    </tr>\n",
       "    <tr>\n",
       "      <th>4</th>\n",
       "      <td>0.127325</td>\n",
       "      <td>0.106398</td>\n",
       "    </tr>\n",
       "    <tr>\n",
       "      <th>...</th>\n",
       "      <td>...</td>\n",
       "      <td>...</td>\n",
       "    </tr>\n",
       "    <tr>\n",
       "      <th>3163</th>\n",
       "      <td>0.151859</td>\n",
       "      <td>0.182790</td>\n",
       "    </tr>\n",
       "    <tr>\n",
       "      <th>3164</th>\n",
       "      <td>0.162193</td>\n",
       "      <td>0.188980</td>\n",
       "    </tr>\n",
       "    <tr>\n",
       "      <th>3165</th>\n",
       "      <td>0.190936</td>\n",
       "      <td>0.209918</td>\n",
       "    </tr>\n",
       "    <tr>\n",
       "      <th>3166</th>\n",
       "      <td>0.176435</td>\n",
       "      <td>0.172375</td>\n",
       "    </tr>\n",
       "    <tr>\n",
       "      <th>3167</th>\n",
       "      <td>0.180756</td>\n",
       "      <td>0.185607</td>\n",
       "    </tr>\n",
       "  </tbody>\n",
       "</table>\n",
       "<p>3168 rows × 2 columns</p>\n",
       "</div>"
      ],
      "text/plain": [
       "           IQR   meanfun\n",
       "0     0.075122  0.084279\n",
       "1     0.073252  0.107937\n",
       "2     0.123207  0.098706\n",
       "3     0.111374  0.088965\n",
       "4     0.127325  0.106398\n",
       "...        ...       ...\n",
       "3163  0.151859  0.182790\n",
       "3164  0.162193  0.188980\n",
       "3165  0.190936  0.209918\n",
       "3166  0.176435  0.172375\n",
       "3167  0.180756  0.185607\n",
       "\n",
       "[3168 rows x 2 columns]"
      ]
     },
     "execution_count": 13,
     "metadata": {},
     "output_type": "execute_result"
    }
   ],
   "source": [
    "y =set.label.values\n",
    "x = set.drop(['meanfreq','sd','median','Q25','Q75','skew','kurt','sp.ent','sfm','mode','centroid','minfun','maxfun','meandom','mindom','maxdom','dfrange','modindx','label'],axis=1)\n",
    "x"
   ]
  },
  {
   "cell_type": "code",
   "execution_count": 14,
   "metadata": {},
   "outputs": [],
   "source": [
    "xtrain, xtest, ytrain, ytest = train_test_split (x,y,test_size=0.3,random_state = 30)\n",
    "gbc = GradientBoostingClassifier(n_estimators=100, learning_rate=1.0, max_depth=1)\n",
    "gbc.fit(xtrain, ytrain)\n",
    "GBC_f=gbc.predict(xtest) \n",
    "conf = confusion_matrix(ytest, GBC_f)"
   ]
  },
  {
   "cell_type": "code",
   "execution_count": 15,
   "metadata": {},
   "outputs": [
    {
     "data": {
      "image/png": "[encoded data removed]",
      "text/plain": [
       "<Figure size 432x288 with 2 Axes>"
      ]
     },
     "metadata": {
      "needs_background": "light"
     },
     "output_type": "display_data"
    }
   ],
   "source": [
    "plot_confusion_matrix(gbc, xtest, ytest)  \n",
    "plt.show()"
   ]
  },
  {
   "cell_type": "code",
   "execution_count": 16,
   "metadata": {},
   "outputs": [
    {
     "data": {
      "text/plain": [
       "{'tp': 471,\n",
       " 'tn': 457,\n",
       " 'fp': 9,\n",
       " 'fn': 14,\n",
       " 'accuracy': 0.9758149316508938,\n",
       " 'sensitivity': 0.9711340206185567,\n",
       " 'specificity': 0.98068669527897,\n",
       " 'precision': 0.98125,\n",
       " 'recall': 0.9711340206185567,\n",
       " 'f-score': 0.9761658031088083,\n",
       " 'AUC': 0.9759103579487634,\n",
       " 'Youden': 0.9518207158975267,\n",
       " 'p+': 50.28316151202763,\n",
       " 'p-': 0.0294344559994586,\n",
       " 'DP': 1.999236707687123}"
      ]
     },
     "execution_count": 16,
     "metadata": {},
     "output_type": "execute_result"
    }
   ],
   "source": [
    "TP = conf[1,1]\n",
    "FP = conf[0,1]\n",
    "TN = conf[0,0]\n",
    "FN = conf[1,0]\n",
    "GB_results = performance_evaluation(TP, TN, FP, FN)\n",
    "GB_results"
   ]
  },
  {
   "cell_type": "code",
   "execution_count": null,
   "metadata": {},
   "outputs": [],
   "source": []
  }
 ],
 "metadata": {
  "kernelspec": {
   "display_name": "Python 3",
   "language": "python",
   "name": "python3"
  },
  "language_info": {
   "codemirror_mode": {
    "name": "ipython",
    "version": 3
   },
   "file_extension": ".py",
   "mimetype": "text/x-python",
   "name": "python",
   "nbconvert_exporter": "python",
   "pygments_lexer": "ipython3",
   "version": "3.8.3"
  }
 },
 "nbformat": 4,
 "nbformat_minor": 4
}
