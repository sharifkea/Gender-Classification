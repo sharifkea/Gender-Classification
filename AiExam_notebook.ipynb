{
 "cells": [
  {
   "cell_type": "code",
   "execution_count": 1,
   "metadata": {
    "id": "nRVgWzA8b3I6"
   },
   "outputs": [],
   "source": [
    "import matplotlib.pyplot as plt\n",
    "from mlxtend.plotting import plot_decision_regions\n",
    "import numpy as ny\n",
    "import pandas as ps\n",
    "from sklearn.svm import SVC\n",
    "from sklearn.model_selection import train_test_split\n",
    "from sklearn.metrics import accuracy_score, precision_score, recall_score, f1_score, cohen_kappa_score\n",
    "import matplotlib.pyplot as plt\n",
    "from sklearn.datasets import make_classification\n",
    "from sklearn.metrics import plot_confusion_matrix\n",
    "from sklearn.tree import DecisionTreeClassifier \n",
    "from sklearn.metrics import confusion_matrix\n",
    "from sklearn import preprocessing\n",
    "from sklearn.linear_model import LogisticRegression \n",
    "from sklearn.ensemble import RandomForestClassifier \n",
    "from sklearn.neighbors import KNeighborsClassifier \n",
    "from sklearn.ensemble import GradientBoostingClassifier \n",
    "from sklearn import tree\n",
    "\n",
    "\n",
    "from sklearn.model_selection import cross_val_score\n",
    "from sklearn.model_selection import KFold"
   ]
  },
  {
   "cell_type": "code",
   "execution_count": 2,
   "metadata": {
    "id": "u_tkEEbe49FC"
   },
   "outputs": [],
   "source": [
    "def performance_evaluation(tp, tn, fp, fn, beta=1.0):\n",
    "\n",
    "   accuracy = (tp + tn) / (tp + fp + fn + tn)\n",
    "   sensitivity = tp / (tp + fn)\n",
    "   specificity = tn / (fp + tn)\n",
    "   precision = tp / (tp + fp)\n",
    "   recall = sensitivity\n",
    "   f_score = ( (beta**2 + 1) * precision * recall) / (beta**2 * precision + recall)\n",
    "   auc = (sensitivity + specificity) / 2\n",
    "   youden = sensitivity - (1 - specificity)\n",
    "   p_plus = sensitivity / (1 - specificity)\n",
    "   p_minus = (1 - sensitivity) / specificity\n",
    "   dp = (ny.sqrt(3) / ny.pi) * (ny.log(sensitivity/(1 - sensitivity) + ny.log(specificity/(1 - specificity))))\n",
    "\n",
    "   result = {}\n",
    "   result[\"tp\"] = tp\n",
    "   result[\"tn\"] = tn\n",
    "   result[\"fp\"] = fp\n",
    "   result[\"fn\"] = fn\n",
    "   result[\"accuracy\"] = accuracy\n",
    "   result[\"sensitivity\"] = sensitivity\n",
    "   result[\"specificity\"] = specificity\n",
    "   result[\"precision\"] = precision\n",
    "   result[\"recall\"] = recall\n",
    "   result[\"f-score\"] = f_score\n",
    "   result[\"AUC\"] = auc\n",
    "   result[\"Youden\"] = youden\n",
    "   result[\"p+\"] = p_plus\n",
    "   result[\"p-\"] = p_minus\n",
    "   result[\"DP\"] = dp\n",
    "\n",
    "   return result"
   ]
  },
  {
   "cell_type": "code",
   "execution_count": 3,
   "metadata": {
    "id": "aFZskJIs_HGk"
   },
   "outputs": [],
   "source": [
    "set = ps.read_csv(\"voice.csv\")\n"
   ]
  },
  {
   "cell_type": "code",
   "execution_count": 4,
   "metadata": {
    "cellView": "code",
    "colab": {
     "base_uri": "https://localhost:8080/",
     "height": 206
    },
    "id": "Eg7Q9UCz_PJQ",
    "outputId": "9d3b97a2-21ec-4bd8-87be-5f7d11a245dc"
   },
   "outputs": [
    {
     "data": {
      "text/html": [
       "<div>\n",
       "<style scoped>\n",
       "    .dataframe tbody tr th:only-of-type {\n",
       "        vertical-align: middle;\n",
       "    }\n",
       "\n",
       "    .dataframe tbody tr th {\n",
       "        vertical-align: top;\n",
       "    }\n",
       "\n",
       "    .dataframe thead th {\n",
       "        text-align: right;\n",
       "    }\n",
       "</style>\n",
       "<table border=\"1\" class=\"dataframe\">\n",
       "  <thead>\n",
       "    <tr style=\"text-align: right;\">\n",
       "      <th></th>\n",
       "      <th>meanfreq</th>\n",
       "      <th>sd</th>\n",
       "      <th>median</th>\n",
       "      <th>Q25</th>\n",
       "      <th>Q75</th>\n",
       "      <th>IQR</th>\n",
       "      <th>skew</th>\n",
       "      <th>kurt</th>\n",
       "      <th>sp.ent</th>\n",
       "      <th>sfm</th>\n",
       "      <th>...</th>\n",
       "      <th>centroid</th>\n",
       "      <th>meanfun</th>\n",
       "      <th>minfun</th>\n",
       "      <th>maxfun</th>\n",
       "      <th>meandom</th>\n",
       "      <th>mindom</th>\n",
       "      <th>maxdom</th>\n",
       "      <th>dfrange</th>\n",
       "      <th>modindx</th>\n",
       "      <th>label</th>\n",
       "    </tr>\n",
       "  </thead>\n",
       "  <tbody>\n",
       "    <tr>\n",
       "      <th>0</th>\n",
       "      <td>0.059781</td>\n",
       "      <td>0.064241</td>\n",
       "      <td>0.032027</td>\n",
       "      <td>0.015071</td>\n",
       "      <td>0.090193</td>\n",
       "      <td>0.075122</td>\n",
       "      <td>12.863462</td>\n",
       "      <td>274.402906</td>\n",
       "      <td>0.893369</td>\n",
       "      <td>0.491918</td>\n",
       "      <td>...</td>\n",
       "      <td>0.059781</td>\n",
       "      <td>0.084279</td>\n",
       "      <td>0.015702</td>\n",
       "      <td>0.275862</td>\n",
       "      <td>0.007812</td>\n",
       "      <td>0.007812</td>\n",
       "      <td>0.007812</td>\n",
       "      <td>0.000000</td>\n",
       "      <td>0.000000</td>\n",
       "      <td>male</td>\n",
       "    </tr>\n",
       "    <tr>\n",
       "      <th>1</th>\n",
       "      <td>0.066009</td>\n",
       "      <td>0.067310</td>\n",
       "      <td>0.040229</td>\n",
       "      <td>0.019414</td>\n",
       "      <td>0.092666</td>\n",
       "      <td>0.073252</td>\n",
       "      <td>22.423285</td>\n",
       "      <td>634.613855</td>\n",
       "      <td>0.892193</td>\n",
       "      <td>0.513724</td>\n",
       "      <td>...</td>\n",
       "      <td>0.066009</td>\n",
       "      <td>0.107937</td>\n",
       "      <td>0.015826</td>\n",
       "      <td>0.250000</td>\n",
       "      <td>0.009014</td>\n",
       "      <td>0.007812</td>\n",
       "      <td>0.054688</td>\n",
       "      <td>0.046875</td>\n",
       "      <td>0.052632</td>\n",
       "      <td>male</td>\n",
       "    </tr>\n",
       "    <tr>\n",
       "      <th>2</th>\n",
       "      <td>0.077316</td>\n",
       "      <td>0.083829</td>\n",
       "      <td>0.036718</td>\n",
       "      <td>0.008701</td>\n",
       "      <td>0.131908</td>\n",
       "      <td>0.123207</td>\n",
       "      <td>30.757155</td>\n",
       "      <td>1024.927705</td>\n",
       "      <td>0.846389</td>\n",
       "      <td>0.478905</td>\n",
       "      <td>...</td>\n",
       "      <td>0.077316</td>\n",
       "      <td>0.098706</td>\n",
       "      <td>0.015656</td>\n",
       "      <td>0.271186</td>\n",
       "      <td>0.007990</td>\n",
       "      <td>0.007812</td>\n",
       "      <td>0.015625</td>\n",
       "      <td>0.007812</td>\n",
       "      <td>0.046512</td>\n",
       "      <td>male</td>\n",
       "    </tr>\n",
       "    <tr>\n",
       "      <th>3</th>\n",
       "      <td>0.151228</td>\n",
       "      <td>0.072111</td>\n",
       "      <td>0.158011</td>\n",
       "      <td>0.096582</td>\n",
       "      <td>0.207955</td>\n",
       "      <td>0.111374</td>\n",
       "      <td>1.232831</td>\n",
       "      <td>4.177296</td>\n",
       "      <td>0.963322</td>\n",
       "      <td>0.727232</td>\n",
       "      <td>...</td>\n",
       "      <td>0.151228</td>\n",
       "      <td>0.088965</td>\n",
       "      <td>0.017798</td>\n",
       "      <td>0.250000</td>\n",
       "      <td>0.201497</td>\n",
       "      <td>0.007812</td>\n",
       "      <td>0.562500</td>\n",
       "      <td>0.554688</td>\n",
       "      <td>0.247119</td>\n",
       "      <td>male</td>\n",
       "    </tr>\n",
       "    <tr>\n",
       "      <th>4</th>\n",
       "      <td>0.135120</td>\n",
       "      <td>0.079146</td>\n",
       "      <td>0.124656</td>\n",
       "      <td>0.078720</td>\n",
       "      <td>0.206045</td>\n",
       "      <td>0.127325</td>\n",
       "      <td>1.101174</td>\n",
       "      <td>4.333713</td>\n",
       "      <td>0.971955</td>\n",
       "      <td>0.783568</td>\n",
       "      <td>...</td>\n",
       "      <td>0.135120</td>\n",
       "      <td>0.106398</td>\n",
       "      <td>0.016931</td>\n",
       "      <td>0.266667</td>\n",
       "      <td>0.712812</td>\n",
       "      <td>0.007812</td>\n",
       "      <td>5.484375</td>\n",
       "      <td>5.476562</td>\n",
       "      <td>0.208274</td>\n",
       "      <td>male</td>\n",
       "    </tr>\n",
       "  </tbody>\n",
       "</table>\n",
       "<p>5 rows × 21 columns</p>\n",
       "</div>"
      ],
      "text/plain": [
       "   meanfreq        sd    median       Q25       Q75       IQR       skew  \\\n",
       "0  0.059781  0.064241  0.032027  0.015071  0.090193  0.075122  12.863462   \n",
       "1  0.066009  0.067310  0.040229  0.019414  0.092666  0.073252  22.423285   \n",
       "2  0.077316  0.083829  0.036718  0.008701  0.131908  0.123207  30.757155   \n",
       "3  0.151228  0.072111  0.158011  0.096582  0.207955  0.111374   1.232831   \n",
       "4  0.135120  0.079146  0.124656  0.078720  0.206045  0.127325   1.101174   \n",
       "\n",
       "          kurt    sp.ent       sfm  ...  centroid   meanfun    minfun  \\\n",
       "0   274.402906  0.893369  0.491918  ...  0.059781  0.084279  0.015702   \n",
       "1   634.613855  0.892193  0.513724  ...  0.066009  0.107937  0.015826   \n",
       "2  1024.927705  0.846389  0.478905  ...  0.077316  0.098706  0.015656   \n",
       "3     4.177296  0.963322  0.727232  ...  0.151228  0.088965  0.017798   \n",
       "4     4.333713  0.971955  0.783568  ...  0.135120  0.106398  0.016931   \n",
       "\n",
       "     maxfun   meandom    mindom    maxdom   dfrange   modindx  label  \n",
       "0  0.275862  0.007812  0.007812  0.007812  0.000000  0.000000   male  \n",
       "1  0.250000  0.009014  0.007812  0.054688  0.046875  0.052632   male  \n",
       "2  0.271186  0.007990  0.007812  0.015625  0.007812  0.046512   male  \n",
       "3  0.250000  0.201497  0.007812  0.562500  0.554688  0.247119   male  \n",
       "4  0.266667  0.712812  0.007812  5.484375  5.476562  0.208274   male  \n",
       "\n",
       "[5 rows x 21 columns]"
      ]
     },
     "execution_count": 4,
     "metadata": {},
     "output_type": "execute_result"
    }
   ],
   "source": [
    "set.head()"
   ]
  },
  {
   "cell_type": "code",
   "execution_count": 5,
   "metadata": {
    "colab": {
     "base_uri": "https://localhost:8080/"
    },
    "id": "7Ib6d0k57Whp",
    "outputId": "96531367-aadb-4f89-8370-381809c26e9d"
   },
   "outputs": [
    {
     "data": {
      "text/plain": [
       "meanfreq     0.180907\n",
       "sd           0.057126\n",
       "median       0.185621\n",
       "Q25          0.140456\n",
       "Q75          0.224765\n",
       "IQR          0.084309\n",
       "skew         3.140168\n",
       "kurt        36.568461\n",
       "sp.ent       0.895127\n",
       "sfm          0.408216\n",
       "mode         0.165282\n",
       "centroid     0.180907\n",
       "meanfun      0.142807\n",
       "minfun       0.036802\n",
       "maxfun       0.258842\n",
       "meandom      0.829211\n",
       "mindom       0.052647\n",
       "maxdom       5.047277\n",
       "dfrange      4.994630\n",
       "modindx      0.173752\n",
       "dtype: float64"
      ]
     },
     "execution_count": 5,
     "metadata": {},
     "output_type": "execute_result"
    }
   ],
   "source": [
    "ny.mean(set)"
   ]
  },
  {
   "cell_type": "code",
   "execution_count": 6,
   "metadata": {
    "id": "AV_Jqp58_jUH"
   },
   "outputs": [],
   "source": [
    "set.label = [1 if each == \"female\" else 0 for each in set.label]\n"
   ]
  },
  {
   "cell_type": "code",
   "execution_count": 7,
   "metadata": {
    "id": "LPCBgDXN_sG9"
   },
   "outputs": [],
   "source": [
    "y =set.label.values\n",
    "x = set.drop(['label'],axis=1)"
   ]
  },
  {
   "cell_type": "code",
   "execution_count": 8,
   "metadata": {
    "id": "vkxYHAqbAJci"
   },
   "outputs": [],
   "source": [
    "xtrain, xtest, ytrain, ytest = train_test_split (x,y,test_size=0.3,random_state = 30)\n",
    "svm = SVC(random_state=42)\n",
    "svm.fit(xtrain, ytrain)\n",
    "SVM_f=svm.predict(xtest)\n",
    "conf = confusion_matrix(ytest, SVM_f)"
   ]
  },
  {
   "cell_type": "code",
   "execution_count": 9,
   "metadata": {
    "colab": {
     "base_uri": "https://localhost:8080/",
     "height": 334
    },
    "id": "Lliqabu0E1tt",
    "outputId": "0d53c770-d107-43dc-c2bc-29faa64e8ede"
   },
   "outputs": [
    {
     "data": {
      "image/png": "[encoded data removed]",
      "text/plain": [
       "<Figure size 432x288 with 2 Axes>"
      ]
     },
     "metadata": {
      "needs_background": "light"
     },
     "output_type": "display_data"
    }
   ],
   "source": [
    "plot_confusion_matrix(svm, xtest, ytest)  \n",
    "plt.show()"
   ]
  },
  {
   "cell_type": "code",
   "execution_count": 10,
   "metadata": {
    "colab": {
     "base_uri": "https://localhost:8080/"
    },
    "id": "2JL2fFD486ig",
    "outputId": "8e7be6c7-e7ab-4d3f-d5b2-256a5d8db66c"
   },
   "outputs": [
    {
     "data": {
      "text/plain": [
       "{'tp': 255,\n",
       " 'tn': 384,\n",
       " 'fp': 82,\n",
       " 'fn': 230,\n",
       " 'accuracy': 0.6719242902208202,\n",
       " 'sensitivity': 0.5257731958762887,\n",
       " 'specificity': 0.8240343347639485,\n",
       " 'precision': 0.7566765578635015,\n",
       " 'recall': 0.5257731958762887,\n",
       " 'f-score': 0.6204379562043796,\n",
       " 'AUC': 0.6749037653201186,\n",
       " 'Youden': 0.3498075306402372,\n",
       " 'p+': 2.9879306009554942,\n",
       " 'p-': 0.5754939862542955,\n",
       " 'DP': 0.5378474913211441}"
      ]
     },
     "execution_count": 10,
     "metadata": {},
     "output_type": "execute_result"
    }
   ],
   "source": [
    "TP = conf[1,1]\n",
    "FP = conf[0,1]\n",
    "TN = conf[0,0]\n",
    "FN = conf[1,0]\n",
    "SVM_results = performance_evaluation(TP, TN, FP, FN)\n",
    "SVM_results.get(\"Youden\")\n",
    "SVM_results"
   ]
  },
  {
   "cell_type": "code",
   "execution_count": 11,
   "metadata": {
    "id": "uHzN0s0HFcIU"
   },
   "outputs": [],
   "source": [
    "#DecisionTreeClassifier"
   ]
  },
  {
   "cell_type": "code",
   "execution_count": 12,
   "metadata": {
    "id": "W1iQBcDShMbu"
   },
   "outputs": [],
   "source": [
    "xtrain, xtest, ytrain, ytest = train_test_split (x,y,test_size=0.3,random_state = 30)\n",
    "dectree = DecisionTreeClassifier()\n",
    "dectree.fit(xtrain, ytrain)\n",
    "DT_f=dectree.predict(xtest) \n",
    "conf = confusion_matrix(ytest, DT_f)"
   ]
  },
  {
   "cell_type": "code",
   "execution_count": 13,
   "metadata": {},
   "outputs": [],
   "source": [
    "tree.export_graphviz(dectree, out_file='deccision_tree_2.dot',\n",
    "                     feature_names=['meanfreq','sd','median','Q25','Q75','IQR','skew','kurt','sp.ent','sfm','mode','centroid','meanfun','minfun','maxfun','meandom','mindom','maxdom','dfrange','modindx'],\n",
    "                     class_names=['Female','Male'],\n",
    "                     label='all',\n",
    "                     rounded=True,\n",
    "                     filled=True)"
   ]
  },
  {
   "cell_type": "code",
   "execution_count": 14,
   "metadata": {
    "colab": {
     "base_uri": "https://localhost:8080/",
     "height": 334
    },
    "id": "G4vxvsgGVo84",
    "outputId": "9bef6a88-a817-4d12-af00-d1d051b88aa5"
   },
   "outputs": [
    {
     "data": {
      "image/png": "[encoded data removed]",
      "text/plain": [
       "<Figure size 432x288 with 2 Axes>"
      ]
     },
     "metadata": {
      "needs_background": "light"
     },
     "output_type": "display_data"
    }
   ],
   "source": [
    "plot_confusion_matrix(dectree, xtest, ytest)  \n",
    "plt.show()"
   ]
  },
  {
   "cell_type": "code",
   "execution_count": 15,
   "metadata": {
    "colab": {
     "base_uri": "https://localhost:8080/"
    },
    "id": "tO4Ur0kQ955V",
    "outputId": "0e28bcda-4eb4-4d56-f696-4a6e32ea6273"
   },
   "outputs": [
    {
     "data": {
      "text/plain": [
       "{'tp': 467,\n",
       " 'tn': 455,\n",
       " 'fp': 11,\n",
       " 'fn': 18,\n",
       " 'accuracy': 0.9695057833859095,\n",
       " 'sensitivity': 0.9628865979381444,\n",
       " 'specificity': 0.9763948497854077,\n",
       " 'precision': 0.9769874476987448,\n",
       " 'recall': 0.9628865979381444,\n",
       " 'f-score': 0.9698857736240915,\n",
       " 'AUC': 0.969640723861776,\n",
       " 'Youden': 0.939281447723552,\n",
       " 'p+': 40.79137769447042,\n",
       " 'p-': 0.03801064914466974,\n",
       " 'DP': 1.8690215757840933}"
      ]
     },
     "execution_count": 15,
     "metadata": {},
     "output_type": "execute_result"
    }
   ],
   "source": [
    "TP = conf[1,1]\n",
    "FP = conf[0,1]\n",
    "TN = conf[0,0]\n",
    "FN = conf[1,0]\n",
    "DT_results = performance_evaluation(TP, TN, FP, FN)\n",
    "DT_results"
   ]
  },
  {
   "cell_type": "code",
   "execution_count": 16,
   "metadata": {
    "id": "ggqjytbyWw82"
   },
   "outputs": [],
   "source": [
    "#Logistic Regression"
   ]
  },
  {
   "cell_type": "code",
   "execution_count": 17,
   "metadata": {
    "colab": {
     "base_uri": "https://localhost:8080/"
    },
    "id": "IPXuRLsvW_6m",
    "outputId": "33b4e93f-df47-4c2e-9317-d78508676e17"
   },
   "outputs": [
    {
     "name": "stderr",
     "output_type": "stream",
     "text": [
      "C:\\Users\\ronys\\anaconda3\\lib\\site-packages\\sklearn\\linear_model\\_logistic.py:762: ConvergenceWarning: lbfgs failed to converge (status=1):\n",
      "STOP: TOTAL NO. of ITERATIONS REACHED LIMIT.\n",
      "\n",
      "Increase the number of iterations (max_iter) or scale the data as shown in:\n",
      "    https://scikit-learn.org/stable/modules/preprocessing.html\n",
      "Please also refer to the documentation for alternative solver options:\n",
      "    https://scikit-learn.org/stable/modules/linear_model.html#logistic-regression\n",
      "  n_iter_i = _check_optimize_result(\n"
     ]
    }
   ],
   "source": [
    "xtrain, xtest, ytrain, ytest = train_test_split (x,y,test_size=0.2,random_state = 30)\n",
    "logreg = LogisticRegression()\n",
    "logreg.fit(xtrain, ytrain)\n",
    "LogReg_f=logreg.predict(xtest)\n",
    "conf = confusion_matrix(ytest, LogReg_f)"
   ]
  },
  {
   "cell_type": "code",
   "execution_count": 18,
   "metadata": {
    "colab": {
     "base_uri": "https://localhost:8080/",
     "height": 335
    },
    "id": "3CMkv_MuXuWu",
    "outputId": "6a54c294-f342-41e1-a6ff-b6c6b307ab44"
   },
   "outputs": [
    {
     "data": {
      "image/png": "[encoded data removed]",
      "text/plain": [
       "<Figure size 432x288 with 2 Axes>"
      ]
     },
     "metadata": {
      "needs_background": "light"
     },
     "output_type": "display_data"
    }
   ],
   "source": [
    "plot_confusion_matrix(logreg, xtest, ytest)  \n",
    "plt.show()"
   ]
  },
  {
   "cell_type": "code",
   "execution_count": 19,
   "metadata": {
    "colab": {
     "base_uri": "https://localhost:8080/"
    },
    "id": "8pN79mmt-6ng",
    "outputId": "e8b93dae-383e-49dd-cc49-98df17a19a65"
   },
   "outputs": [
    {
     "data": {
      "text/plain": [
       "{'tp': 253,\n",
       " 'tn': 249,\n",
       " 'fp': 64,\n",
       " 'fn': 68,\n",
       " 'accuracy': 0.7917981072555205,\n",
       " 'sensitivity': 0.7881619937694704,\n",
       " 'specificity': 0.7955271565495208,\n",
       " 'precision': 0.7981072555205048,\n",
       " 'recall': 0.7881619937694704,\n",
       " 'f-score': 0.7931034482758622,\n",
       " 'AUC': 0.7918445751594956,\n",
       " 'Youden': 0.5836891503189912,\n",
       " 'p+': 3.854604750778816,\n",
       " 'p-': 0.26628632911709144,\n",
       " 'DP': 0.8959896785697}"
      ]
     },
     "execution_count": 19,
     "metadata": {},
     "output_type": "execute_result"
    }
   ],
   "source": [
    "TP = conf[1,1]\n",
    "FP = conf[0,1]\n",
    "TN = conf[0,0]\n",
    "FN = conf[1,0]\n",
    "LogReg_results = performance_evaluation(TP, TN, FP, FN)\n",
    "LogReg_results"
   ]
  },
  {
   "cell_type": "code",
   "execution_count": 20,
   "metadata": {
    "id": "GHMEI38KXw4u"
   },
   "outputs": [],
   "source": [
    "#RandomForestClassifier "
   ]
  },
  {
   "cell_type": "code",
   "execution_count": 21,
   "metadata": {
    "id": "LQpWmwKCYkQ7"
   },
   "outputs": [],
   "source": [
    "xtrain, xtest, ytrain, ytest = train_test_split (x,y,test_size=0.3,random_state = 30)\n",
    "randforest = RandomForestClassifier (n_estimators=100, random_state=40)\n",
    "randforest.fit(xtrain, ytrain)\n",
    "RF_f=randforest.predict(xtest) \n",
    "conf = confusion_matrix(ytest, RF_f)"
   ]
  },
  {
   "cell_type": "code",
   "execution_count": 22,
   "metadata": {
    "colab": {
     "base_uri": "https://localhost:8080/",
     "height": 334
    },
    "id": "_wOVKjJa2Fg2",
    "outputId": "65fef2a5-ae39-4be0-b1b5-2571a0837353"
   },
   "outputs": [
    {
     "data": {
      "image/png": "[encoded data removed]",
      "text/plain": [
       "<Figure size 432x288 with 2 Axes>"
      ]
     },
     "metadata": {
      "needs_background": "light"
     },
     "output_type": "display_data"
    }
   ],
   "source": [
    "plot_confusion_matrix(randforest, xtest, ytest)  \n",
    "plt.show()"
   ]
  },
  {
   "cell_type": "code",
   "execution_count": 23,
   "metadata": {
    "colab": {
     "base_uri": "https://localhost:8080/"
    },
    "id": "iw2iXBv_1Pu5",
    "outputId": "4de024fe-7c34-4e49-ff08-482c51479af3"
   },
   "outputs": [
    {
     "data": {
      "text/plain": [
       "{'tp': 479,\n",
       " 'tn': 456,\n",
       " 'fp': 10,\n",
       " 'fn': 6,\n",
       " 'accuracy': 0.9831756046267087,\n",
       " 'sensitivity': 0.9876288659793815,\n",
       " 'specificity': 0.9785407725321889,\n",
       " 'precision': 0.9795501022494888,\n",
       " 'recall': 0.9876288659793815,\n",
       " 'f-score': 0.9835728952772074,\n",
       " 'AUC': 0.9830848192557852,\n",
       " 'Youden': 0.9661696385115703,\n",
       " 'p+': 46.0235051546392,\n",
       " 'p-': 0.012642430819316286,\n",
       " 'DP': 2.440556689640832}"
      ]
     },
     "execution_count": 23,
     "metadata": {},
     "output_type": "execute_result"
    }
   ],
   "source": [
    "TP = conf[1,1]\n",
    "FP = conf[0,1]\n",
    "TN = conf[0,0]\n",
    "FN = conf[1,0]\n",
    "RF_results = performance_evaluation(TP, TN, FP, FN)\n",
    "RF_results"
   ]
  },
  {
   "cell_type": "code",
   "execution_count": 24,
   "metadata": {
    "id": "gaVaxqe9ZgQN"
   },
   "outputs": [],
   "source": [
    "#KNeighborsClassifier \n"
   ]
  },
  {
   "cell_type": "code",
   "execution_count": 25,
   "metadata": {
    "id": "d8jIF2mOZsAf"
   },
   "outputs": [],
   "source": [
    "xtrain, xtest, ytrain, ytest = train_test_split (x,y,test_size=0.3,random_state = 30)\n",
    "knn = KNeighborsClassifier(n_neighbors=3)\n",
    "knn.fit (xtrain, ytrain)\n",
    "KNN_f=knn.predict(xtest) \n",
    "conf = confusion_matrix(ytest, KNN_f)"
   ]
  },
  {
   "cell_type": "code",
   "execution_count": 26,
   "metadata": {
    "colab": {
     "base_uri": "https://localhost:8080/",
     "height": 338
    },
    "id": "t0IOhBhEaRF1",
    "outputId": "9573b097-dbbe-4bbb-93f6-f8aa7935fe4d"
   },
   "outputs": [
    {
     "data": {
      "image/png": "[encoded data removed]",
      "text/plain": [
       "<Figure size 432x288 with 2 Axes>"
      ]
     },
     "metadata": {
      "needs_background": "light"
     },
     "output_type": "display_data"
    }
   ],
   "source": [
    "plot_confusion_matrix(knn, xtest, ytest)  \n",
    "plt.show()"
   ]
  },
  {
   "cell_type": "code",
   "execution_count": 27,
   "metadata": {
    "colab": {
     "base_uri": "https://localhost:8080/"
    },
    "id": "aFdbEcLr_7vL",
    "outputId": "dbc58c4b-efe8-44ab-9368-748d8d93dc66"
   },
   "outputs": [
    {
     "data": {
      "text/plain": [
       "{'tp': 324,\n",
       " 'tn': 350,\n",
       " 'fp': 116,\n",
       " 'fn': 161,\n",
       " 'accuracy': 0.7087276550998949,\n",
       " 'sensitivity': 0.668041237113402,\n",
       " 'specificity': 0.7510729613733905,\n",
       " 'precision': 0.7363636363636363,\n",
       " 'recall': 0.668041237113402,\n",
       " 'f-score': 0.7005405405405406,\n",
       " 'AUC': 0.7095570992433963,\n",
       " 'Youden': 0.41911419848679254,\n",
       " 'p+': 2.6836829008176317,\n",
       " 'p-': 0.44197938144329907,\n",
       " 'DP': 0.6267483224367831}"
      ]
     },
     "execution_count": 27,
     "metadata": {},
     "output_type": "execute_result"
    }
   ],
   "source": [
    "TP = conf[1,1]\n",
    "FP = conf[0,1]\n",
    "TN = conf[0,0]\n",
    "FN = conf[1,0]\n",
    "KNN_results = performance_evaluation(TP, TN, FP, FN)\n",
    "KNN_results"
   ]
  },
  {
   "cell_type": "code",
   "execution_count": 28,
   "metadata": {
    "id": "5D7Jev5_asPl"
   },
   "outputs": [],
   "source": [
    "#GradientBoostingClassifier \n"
   ]
  },
  {
   "cell_type": "code",
   "execution_count": 29,
   "metadata": {
    "id": "cZtYwt7obPiA"
   },
   "outputs": [],
   "source": [
    "xtrain, xtest, ytrain, ytest = train_test_split (x,y,test_size=0.3,random_state = 30)\n",
    "gbc = GradientBoostingClassifier(n_estimators=100, learning_rate=1.0, max_depth=1)\n",
    "gbc.fit(xtrain, ytrain)\n",
    "GBC_f=gbc.predict(xtest) \n",
    "conf = confusion_matrix(ytest, GBC_f)"
   ]
  },
  {
   "cell_type": "code",
   "execution_count": 30,
   "metadata": {
    "colab": {
     "base_uri": "https://localhost:8080/",
     "height": 334
    },
    "id": "cVxvJBG6beNx",
    "outputId": "0daab640-407d-4a0e-8e25-45e0d157d787"
   },
   "outputs": [
    {
     "data": {
      "image/png": "[encoded data removed]",
      "text/plain": [
       "<Figure size 432x288 with 2 Axes>"
      ]
     },
     "metadata": {
      "needs_background": "light"
     },
     "output_type": "display_data"
    }
   ],
   "source": [
    "plot_confusion_matrix(gbc, xtest, ytest)  \n",
    "plt.show()"
   ]
  },
  {
   "cell_type": "code",
   "execution_count": 31,
   "metadata": {
    "colab": {
     "base_uri": "https://localhost:8080/"
    },
    "id": "IJO-mdYmbiM0",
    "outputId": "ef64fd69-7b97-4478-9c99-533479d66fc2"
   },
   "outputs": [
    {
     "data": {
      "text/plain": [
       "{'tp': 475,\n",
       " 'tn': 458,\n",
       " 'fp': 8,\n",
       " 'fn': 10,\n",
       " 'accuracy': 0.9810725552050473,\n",
       " 'sensitivity': 0.979381443298969,\n",
       " 'specificity': 0.9828326180257511,\n",
       " 'precision': 0.9834368530020704,\n",
       " 'recall': 0.979381443298969,\n",
       " 'f-score': 0.981404958677686,\n",
       " 'AUC': 0.98110703066236,\n",
       " 'Youden': 0.9622140613247201,\n",
       " 'p+': 57.0489690721649,\n",
       " 'p-': 0.020978706163057706,\n",
       " 'DP': 2.173615443204584}"
      ]
     },
     "execution_count": 31,
     "metadata": {},
     "output_type": "execute_result"
    }
   ],
   "source": [
    "TP = conf[1,1]\n",
    "FP = conf[0,1]\n",
    "TN = conf[0,0]\n",
    "FN = conf[1,0]\n",
    "GCB_results = performance_evaluation(TP, TN, FP, FN)\n",
    "GCB_results"
   ]
  },
  {
   "cell_type": "code",
   "execution_count": 32,
   "metadata": {
    "id": "F6MY4VuiXzWJ"
   },
   "outputs": [],
   "source": [
    "import matplotlib.pyplot as plt; plt.rcdefaults()\n",
    "import numpy as np\n",
    "import matplotlib.pyplot as plt\n"
   ]
  },
  {
   "cell_type": "code",
   "execution_count": 33,
   "metadata": {
    "colab": {
     "base_uri": "https://localhost:8080/",
     "height": 472
    },
    "id": "3cTsIE32ZfMG",
    "outputId": "a6d4a8c4-e92d-4b68-ad59-d69ceb36d060"
   },
   "outputs": [
    {
     "data": {
      "image/png": "[encoded data removed]",
      "text/plain": [
       "<Figure size 640x480 with 1 Axes>"
      ]
     },
     "metadata": {},
     "output_type": "display_data"
    }
   ],
   "source": [
    "from matplotlib import pyplot as plt\n",
    "import numpy as np\n",
    "\n",
    "# plt.rcParams[\"figure.figsize\"] = [7.50, 3.50]\n",
    "# plt.rcParams[\"figure.autolayout\"] = True\n",
    "\n",
    "x = ['LogReg', 'RF', 'DT', 'KNN', 'GBC', 'SVM']\n",
    "logReg = \"{:.4f}\".format(LogReg_results.get(\"Youden\"))\n",
    "rf = \"{:.4f}\".format(RF_results.get(\"Youden\"))\n",
    "dt = \"{:.4f}\".format(DT_results.get(\"Youden\"))\n",
    "knn = \"{:.4f}\".format(KNN_results.get(\"Youden\"))\n",
    "gbc = \"{:.4f}\".format(GCB_results.get(\"Youden\"))\n",
    "svm = \"{:.4f}\".format(SVM_results.get(\"Youden\"))\n",
    "\n",
    "\n",
    "y = [float(logReg),float(rf),float(dt),float(knn),float(gbc),float(svm)]\n",
    "\n",
    "width = 0.35\n",
    "fig, ax = plt.subplots()\n",
    "\n",
    "pps = ax.bar(x, y, width, align='center')\n",
    "ax.set_ylabel(\"Youden's index\")\n",
    "ax.set_xlabel('Algorithms')\n",
    "ax.set_title('Compare Difference Algorithms')\n",
    "\n",
    "\n",
    "for p in pps:\n",
    "   height = p.get_height()\n",
    "   ax.text(x=p.get_x() + p.get_width() / 2, y=height+.01,\n",
    "      s=\"{}%\".format(height),\n",
    "      ha='center')\n",
    "   \n",
    "plt.savefig('barChart.png')\n",
    "plt.show()"
   ]
  }
 ],
 "metadata": {
  "colab": {
   "collapsed_sections": [],
   "name": "AiExam.ipynb",
   "provenance": []
  },
  "kernelspec": {
   "display_name": "Python 3",
   "language": "python",
   "name": "python3"
  },
  "language_info": {
   "codemirror_mode": {
    "name": "ipython",
    "version": 3
   },
   "file_extension": ".py",
   "mimetype": "text/x-python",
   "name": "python",
   "nbconvert_exporter": "python",
   "pygments_lexer": "ipython3",
   "version": "3.8.3"
  }
 },
 "nbformat": 4,
 "nbformat_minor": 1
}
